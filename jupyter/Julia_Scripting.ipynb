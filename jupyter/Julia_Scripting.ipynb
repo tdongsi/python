{
 "cells": [
  {
   "cell_type": "code",
   "execution_count": 1,
   "metadata": {},
   "outputs": [
    {
     "ename": "ArgumentError",
     "evalue": "ArgumentError: Package RDatatsets not found in current path:\n- Run `import Pkg; Pkg.add(\"RDatatsets\")` to install the RDatatsets package.\n",
     "output_type": "error",
     "traceback": [
      "ArgumentError: Package RDatatsets not found in current path:\n- Run `import Pkg; Pkg.add(\"RDatatsets\")` to install the RDatatsets package.\n",
      "",
      "Stacktrace:",
      " [1] require(::Module, ::Symbol) at ./loading.jl:823",
      " [2] top-level scope at In[1]:1"
     ]
    }
   ],
   "source": [
    "using RDatatsets, DataFrames, Gadfly\n",
    "set_default_plot_size(5inch, 5inch/golden);\n",
    "plot(dataset(\"datasets\", \"iris\"), x=\"SepalWidth\", y=\"SepalLength\", color=\"Species\")"
   ]
  }
 ],
 "metadata": {
  "kernelspec": {
   "display_name": "Julia 1.0.3",
   "language": "julia",
   "name": "julia-1.0"
  },
  "language_info": {
   "file_extension": ".jl",
   "mimetype": "application/julia",
   "name": "julia",
   "version": "1.0.3"
  }
 },
 "nbformat": 4,
 "nbformat_minor": 2
}
