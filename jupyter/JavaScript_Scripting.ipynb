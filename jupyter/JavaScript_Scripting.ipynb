{
 "cells": [
  {
   "cell_type": "code",
   "execution_count": 1,
   "metadata": {},
   "outputs": [
    {
     "name": "stdout",
     "output_type": "stream",
     "text": [
      "Hello World\n"
     ]
    },
    {
     "data": {
      "text/plain": [
       "undefined"
      ]
     },
     "execution_count": 1,
     "metadata": {},
     "output_type": "execute_result"
    }
   ],
   "source": [
    "var msg = \"Hello World\"\n",
    "console.log(msg)"
   ]
  },
  {
   "cell_type": "code",
   "execution_count": 6,
   "metadata": {},
   "outputs": [
    {
     "data": {
      "text/plain": [
       "undefined"
      ]
     },
     "execution_count": 6,
     "metadata": {},
     "output_type": "execute_result"
    },
    {
     "name": "stdout",
     "output_type": "stream",
     "text": [
      "[{\"name\":\"lion\",\"avg_weight\":\"400\"},{\"name\":\"tiger\",\"avg_weight\":\"400\"},{\"name\":\"human\",\"avg_weight\":\"150\"},{\"name\":\"elephant\",\"avg_weight\":\"2000\"}]\n",
      "400\n"
     ]
    }
   ],
   "source": [
    "var fs = require(\"fs\");\n",
    "var d3 = require(\"d3\");\n",
    "var _ = require(\"lodash\");\n",
    "\n",
    "fs.readFile(\"data/animals.tsv\", \"utf8\", function(error, data) {\n",
    "    data = d3.tsvParse(data);\n",
    "    console.log(JSON.stringify(data));\n",
    "    \n",
    "    var maxWeight = d3.max(data, function(d) {\n",
    "        return d.avg_weight;\n",
    "    });\n",
    "    console.log(maxWeight);\n",
    "});"
   ]
  }
 ],
 "metadata": {
  "kernelspec": {
   "display_name": "Javascript (Node.js)",
   "language": "javascript",
   "name": "javascript"
  },
  "language_info": {
   "file_extension": ".js",
   "mimetype": "application/javascript",
   "name": "javascript",
   "version": "11.5.0"
  }
 },
 "nbformat": 4,
 "nbformat_minor": 2
}
