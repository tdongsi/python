{
 "cells": [
  {
   "cell_type": "code",
   "execution_count": 1,
   "metadata": {},
   "outputs": [
    {
     "name": "stdout",
     "output_type": "stream",
     "text": [
      "Hello World\n"
     ]
    },
    {
     "data": {
      "text/plain": [
       "undefined"
      ]
     },
     "execution_count": 1,
     "metadata": {},
     "output_type": "execute_result"
    }
   ],
   "source": [
    "var msg = \"Hello World\"\n",
    "console.log(msg)"
   ]
  },
  {
   "cell_type": "code",
   "execution_count": 1,
   "metadata": {},
   "outputs": [
    {
     "data": {
      "text/plain": [
       "undefined"
      ]
     },
     "execution_count": 1,
     "metadata": {},
     "output_type": "execute_result"
    },
    {
     "name": "stdout",
     "output_type": "stream",
     "text": [
      "[{\"name\":\"lion\",\"avg_weight\":\"400\"},{\"name\":\"tiger\",\"avg_weight\":\"400\"},{\"name\":\"human\",\"avg_weight\":\"150\"},{\"name\":\"elephant\",\"avg_weight\":\"2000\"}]\n",
      "2000\n"
     ]
    }
   ],
   "source": [
    "var fs = require(\"fs\");\n",
    "var d3 = require(\"d3\");\n",
    "var _ = require(\"lodash\");\n",
    "\n",
    "fs.readFile(\"data/animals.tsv\", \"utf8\", function(error, data) {\n",
    "    data = d3.tsvParse(data);\n",
    "    console.log(JSON.stringify(data));\n",
    "    \n",
    "    var maxWeight = d3.max(data, function(d) {\n",
    "        return parseInt(d.avg_weight);\n",
    "    });\n",
    "    console.log(maxWeight);\n",
    "});"
   ]
  },
  {
   "cell_type": "markdown",
   "metadata": {},
   "source": [
    "### stats-analysis package and JSON Handling\n"
   ]
  },
  {
   "cell_type": "code",
   "execution_count": 2,
   "metadata": {},
   "outputs": [
    {
     "name": "stdout",
     "output_type": "stream",
     "text": [
      "Standard Deviation is  35.07\n",
      "Mean is  116.04\n",
      "Median is  98.6\n",
      "Median Abs Deviation is 0.20000000000000284\n",
      "The outliers of data set  [ 4, 5, 6 ]\n",
      "The data set with no outliers  [ 98, 98.6, 98.4, 98.8 ]\n"
     ]
    },
    {
     "data": {
      "text/plain": [
       "undefined"
      ]
     },
     "execution_count": 2,
     "metadata": {},
     "output_type": "execute_result"
    }
   ],
   "source": [
    "var stats = require(\"stats-analysis\");\n",
    "\n",
    "var arr = [98, 98.6, 98.4, 98.8, 200, 120, 98.5];\n",
    "\n",
    "// standard deviation\n",
    "var my_stddev = stats.stdev(arr).toFixed(2);\n",
    "console.log(\"Standard Deviation is \", my_stddev);\n",
    "\n",
    "// mean\n",
    "var my_mean = stats.mean(arr).toFixed(2);\n",
    "console.log(\"Mean is \", my_mean);\n",
    "\n",
    "// median\n",
    "var my_median = stats.median(arr);\n",
    "console.log(\"Median is \", my_median);\n",
    "\n",
    "// median absolute deviation\n",
    "var my_mad = stats.MAD(arr);\n",
    "console.log(\"Median Abs Deviation is \" + my_mad);\n",
    "\n",
    "// Get outlier index\n",
    "var my_outliers = stats.indexOfOutliers(arr);\n",
    "var filtered = stats.filterOutliers(arr);\n",
    "\n",
    "console.log(\"The outliers of data set \", my_outliers);\n",
    "console.log(\"The data set with no outliers \", filtered);\n",
    "\n"
   ]
  }
 ],
 "metadata": {
  "kernelspec": {
   "display_name": "Javascript (Node.js)",
   "language": "javascript",
   "name": "javascript"
  },
  "language_info": {
   "file_extension": ".js",
   "mimetype": "application/javascript",
   "name": "javascript",
   "version": "11.5.0"
  }
 },
 "nbformat": 4,
 "nbformat_minor": 2
}
